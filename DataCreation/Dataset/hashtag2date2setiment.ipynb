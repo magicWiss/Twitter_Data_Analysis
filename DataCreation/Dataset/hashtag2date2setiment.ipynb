{
 "cells": [
  {
   "cell_type": "code",
   "execution_count": 3,
   "metadata": {},
   "outputs": [],
   "source": [
    "import pandas as pd\n"
   ]
  },
  {
   "cell_type": "code",
   "execution_count": 4,
   "metadata": {},
   "outputs": [
    {
     "name": "stdout",
     "output_type": "stream",
     "text": [
      "Numero tweets: 259643\n",
      "colonne: Index(['author_id', 'tweet_id', 'conversation_author_id', 'conversation_id',\n",
      "       'timestamp', 'text', 'sentiment', 'Hastags'],\n",
      "      dtype='object')\n"
     ]
    }
   ],
   "source": [
    "dataPath=r\"SRC\\tweetsAndHastags.csv\"\n",
    "data=pd.read_csv(dataPath)\n",
    "print(\"Numero tweets:\",len(data))\n",
    "print(\"colonne:\",data.columns)"
   ]
  },
  {
   "cell_type": "code",
   "execution_count": 5,
   "metadata": {},
   "outputs": [],
   "source": [
    "def get_values(sent):\n",
    "    sent=sent.replace(\"[\",\"\").replace(\"]\",\"\").split()\n",
    "    if len(sent)!=3:\n",
    "        print (sent)\n",
    "        return \"0\"\n",
    "    \n",
    "    else:\n",
    "        out=[]\n",
    "        for s in sent:\n",
    "            out.append(float(s))   \n",
    "        return out"
   ]
  },
  {
   "cell_type": "code",
   "execution_count": 6,
   "metadata": {},
   "outputs": [
    {
     "name": "stdout",
     "output_type": "stream",
     "text": [
      "[\"'exception'\"]\n",
      "[\"'exception'\"]\n",
      "[\"'exception'\"]\n",
      "[\"'exception'\"]\n",
      "[\"'exception'\"]\n"
     ]
    }
   ],
   "source": [
    "#creating the user, date, sentiment rows\n",
    "import ast\n",
    "columns_SRC=[\"Hastags\",\"timestamp\",\"sentiment\"]\n",
    "columns_TGT=[\"Hastag\",\"timestamp\",\"negative\",\"medium\",\"positive\"]\n",
    "hastag2date2sentiment=data[columns_SRC]\n",
    "rows=[]\n",
    "for index, row in hastag2date2sentiment.iterrows():\n",
    "    hastags=ast.literal_eval(row[\"Hastags\"])\n",
    "\n",
    "    time=row[\"timestamp\"]\n",
    "    sentiment=row[\"sentiment\"]\n",
    "    sentiment=get_values(sentiment)\n",
    "    if sentiment!=\"0\":\n",
    "        neg=sentiment[0]\n",
    "        med=sentiment[1]\n",
    "        pos=sentiment[2]\n",
    "    else:\n",
    "        neg=pos=med=0\n",
    "    \n",
    "    for h in hastags:\n",
    "        current_record=[h,time,neg,med,pos]\n",
    "        rows.append(current_record)\n",
    "\n",
    "\n",
    "    \n",
    "\n",
    "hashtag2date=pd.DataFrame(data=rows,columns=columns_TGT)"
   ]
  },
  {
   "cell_type": "code",
   "execution_count": 7,
   "metadata": {},
   "outputs": [
    {
     "data": {
      "text/plain": [
       "Index(['Hastag', 'timestamp', 'negative', 'medium', 'positive'], dtype='object')"
      ]
     },
     "execution_count": 7,
     "metadata": {},
     "output_type": "execute_result"
    }
   ],
   "source": [
    "#save\n",
    "hashtag2date.to_csv(r\"TGT\\Hastag2date2sentiment.csv\")\n",
    "hashtag2date.columns"
   ]
  },
  {
   "cell_type": "code",
   "execution_count": 8,
   "metadata": {},
   "outputs": [],
   "source": [
    "hashtag2date['timestamp'] = pd.to_datetime(hashtag2date['timestamp'], unit='s')"
   ]
  },
  {
   "cell_type": "code",
   "execution_count": 9,
   "metadata": {},
   "outputs": [],
   "source": [
    "hashtag2date['timestamp'] = hashtag2date['timestamp'].dt.date"
   ]
  },
  {
   "cell_type": "code",
   "execution_count": 10,
   "metadata": {},
   "outputs": [
    {
     "data": {
      "text/html": [
       "<div>\n",
       "<style scoped>\n",
       "    .dataframe tbody tr th:only-of-type {\n",
       "        vertical-align: middle;\n",
       "    }\n",
       "\n",
       "    .dataframe tbody tr th {\n",
       "        vertical-align: top;\n",
       "    }\n",
       "\n",
       "    .dataframe thead th {\n",
       "        text-align: right;\n",
       "    }\n",
       "</style>\n",
       "<table border=\"1\" class=\"dataframe\">\n",
       "  <thead>\n",
       "    <tr style=\"text-align: right;\">\n",
       "      <th></th>\n",
       "      <th>Hastag</th>\n",
       "      <th>timestamp</th>\n",
       "      <th>negative</th>\n",
       "      <th>medium</th>\n",
       "      <th>positive</th>\n",
       "    </tr>\n",
       "  </thead>\n",
       "  <tbody>\n",
       "    <tr>\n",
       "      <th>0</th>\n",
       "      <td>arash_sadeghi</td>\n",
       "      <td>2022-11-28</td>\n",
       "      <td>0.873068</td>\n",
       "      <td>0.121616</td>\n",
       "      <td>0.005316</td>\n",
       "    </tr>\n",
       "    <tr>\n",
       "      <th>1</th>\n",
       "      <td>qatar2022</td>\n",
       "      <td>2022-11-28</td>\n",
       "      <td>0.873068</td>\n",
       "      <td>0.121616</td>\n",
       "      <td>0.005316</td>\n",
       "    </tr>\n",
       "    <tr>\n",
       "      <th>2</th>\n",
       "      <td>ausden</td>\n",
       "      <td>2022-11-29</td>\n",
       "      <td>0.022719</td>\n",
       "      <td>0.855413</td>\n",
       "      <td>0.121868</td>\n",
       "    </tr>\n",
       "    <tr>\n",
       "      <th>3</th>\n",
       "      <td>worldcupqatar2022</td>\n",
       "      <td>2022-11-29</td>\n",
       "      <td>0.022719</td>\n",
       "      <td>0.855413</td>\n",
       "      <td>0.121868</td>\n",
       "    </tr>\n",
       "    <tr>\n",
       "      <th>4</th>\n",
       "      <td>bazdawg</td>\n",
       "      <td>2022-11-29</td>\n",
       "      <td>0.022719</td>\n",
       "      <td>0.855413</td>\n",
       "      <td>0.121868</td>\n",
       "    </tr>\n",
       "    <tr>\n",
       "      <th>...</th>\n",
       "      <td>...</td>\n",
       "      <td>...</td>\n",
       "      <td>...</td>\n",
       "      <td>...</td>\n",
       "      <td>...</td>\n",
       "    </tr>\n",
       "    <tr>\n",
       "      <th>580824</th>\n",
       "      <td>wkvoetbal</td>\n",
       "      <td>2022-11-29</td>\n",
       "      <td>0.077793</td>\n",
       "      <td>0.870654</td>\n",
       "      <td>0.051553</td>\n",
       "    </tr>\n",
       "    <tr>\n",
       "      <th>580825</th>\n",
       "      <td>saytheirnames</td>\n",
       "      <td>2022-11-29</td>\n",
       "      <td>0.834753</td>\n",
       "      <td>0.159256</td>\n",
       "      <td>0.005992</td>\n",
       "    </tr>\n",
       "    <tr>\n",
       "      <th>580826</th>\n",
       "      <td>saytheirnames</td>\n",
       "      <td>2022-11-29</td>\n",
       "      <td>0.373348</td>\n",
       "      <td>0.502817</td>\n",
       "      <td>0.123835</td>\n",
       "    </tr>\n",
       "    <tr>\n",
       "      <th>580827</th>\n",
       "      <td>qatar2022</td>\n",
       "      <td>2022-11-29</td>\n",
       "      <td>0.373348</td>\n",
       "      <td>0.502817</td>\n",
       "      <td>0.123835</td>\n",
       "    </tr>\n",
       "    <tr>\n",
       "      <th>580828</th>\n",
       "      <td>irnusa</td>\n",
       "      <td>2022-11-29</td>\n",
       "      <td>0.373348</td>\n",
       "      <td>0.502817</td>\n",
       "      <td>0.123835</td>\n",
       "    </tr>\n",
       "  </tbody>\n",
       "</table>\n",
       "<p>580829 rows × 5 columns</p>\n",
       "</div>"
      ],
      "text/plain": [
       "                   Hastag   timestamp  negative    medium  positive\n",
       "0           arash_sadeghi  2022-11-28  0.873068  0.121616  0.005316\n",
       "1               qatar2022  2022-11-28  0.873068  0.121616  0.005316\n",
       "2                  ausden  2022-11-29  0.022719  0.855413  0.121868\n",
       "3       worldcupqatar2022  2022-11-29  0.022719  0.855413  0.121868\n",
       "4                 bazdawg  2022-11-29  0.022719  0.855413  0.121868\n",
       "...                   ...         ...       ...       ...       ...\n",
       "580824          wkvoetbal  2022-11-29  0.077793  0.870654  0.051553\n",
       "580825      saytheirnames  2022-11-29  0.834753  0.159256  0.005992\n",
       "580826      saytheirnames  2022-11-29  0.373348  0.502817  0.123835\n",
       "580827          qatar2022  2022-11-29  0.373348  0.502817  0.123835\n",
       "580828             irnusa  2022-11-29  0.373348  0.502817  0.123835\n",
       "\n",
       "[580829 rows x 5 columns]"
      ]
     },
     "execution_count": 10,
     "metadata": {},
     "output_type": "execute_result"
    }
   ],
   "source": [
    "inter_res=hashtag2date[hashtag2date[\"positive\"]!=\"0\"]\n",
    "inter_res"
   ]
  },
  {
   "cell_type": "code",
   "execution_count": 11,
   "metadata": {},
   "outputs": [],
   "source": [
    "result = inter_res.groupby(['Hastag', 'timestamp']).agg({'positive': 'mean', 'negative': 'mean','medium':'mean'}).reset_index()"
   ]
  },
  {
   "cell_type": "code",
   "execution_count": 12,
   "metadata": {},
   "outputs": [],
   "source": [
    "df_sorted = result.sort_values('timestamp')"
   ]
  },
  {
   "cell_type": "code",
   "execution_count": 13,
   "metadata": {},
   "outputs": [
    {
     "name": "stdout",
     "output_type": "stream",
     "text": [
      "before agg: 580829\n",
      "after agg: 17213\n"
     ]
    }
   ],
   "source": [
    "print(\"before agg:\",len(hashtag2date))\n",
    "print(\"after agg:\", len(df_sorted))"
   ]
  },
  {
   "cell_type": "code",
   "execution_count": 14,
   "metadata": {},
   "outputs": [],
   "source": [
    "df_sorted.to_csv(r\"TGT\\hashtag2date2setimentAGG.csv\",index=False)"
   ]
  }
 ],
 "metadata": {
  "kernelspec": {
   "display_name": "Python 3",
   "language": "python",
   "name": "python3"
  },
  "language_info": {
   "codemirror_mode": {
    "name": "ipython",
    "version": 3
   },
   "file_extension": ".py",
   "mimetype": "text/x-python",
   "name": "python",
   "nbconvert_exporter": "python",
   "pygments_lexer": "ipython3",
   "version": "3.9.13"
  },
  "orig_nbformat": 4
 },
 "nbformat": 4,
 "nbformat_minor": 2
}
