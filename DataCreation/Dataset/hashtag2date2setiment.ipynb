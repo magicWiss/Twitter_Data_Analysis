{
 "cells": [
  {
   "cell_type": "code",
   "execution_count": 2,
   "metadata": {},
   "outputs": [],
   "source": [
    "import pandas as pd\n"
   ]
  },
  {
   "cell_type": "code",
   "execution_count": 3,
   "metadata": {},
   "outputs": [
    {
     "name": "stdout",
     "output_type": "stream",
     "text": [
      "Numero tweets: 259643\n",
      "colonne: Index(['author_id', 'tweet_id', 'conversation_author_id', 'conversation_id',\n",
      "       'timestamp', 'text', 'sentiment', 'Hastags'],\n",
      "      dtype='object')\n"
     ]
    }
   ],
   "source": [
    "dataPath=r\"SRC\\tweetsAndHastags.csv\"\n",
    "data=pd.read_csv(dataPath)\n",
    "print(\"Numero tweets:\",len(data))\n",
    "print(\"colonne:\",data.columns)"
   ]
  },
  {
   "cell_type": "code",
   "execution_count": 4,
   "metadata": {},
   "outputs": [],
   "source": [
    "def get_values(sent):\n",
    "    sent=sent.replace(\"[\",\"\").replace(\"]\",\"\").split()\n",
    "    if len(sent)!=3:\n",
    "        print (sent)\n",
    "        return \"0\"\n",
    "    \n",
    "    else:\n",
    "        out=[]\n",
    "        for s in sent:\n",
    "            out.append(float(s))   \n",
    "        return out"
   ]
  },
  {
   "cell_type": "code",
   "execution_count": 5,
   "metadata": {},
   "outputs": [
    {
     "name": "stdout",
     "output_type": "stream",
     "text": [
      "[\"'exception'\"]\n",
      "[\"'exception'\"]\n",
      "[\"'exception'\"]\n",
      "[\"'exception'\"]\n",
      "[\"'exception'\"]\n"
     ]
    }
   ],
   "source": [
    "#creating the user, date, sentiment rows\n",
    "import ast\n",
    "columns_SRC=[\"Hastags\",\"timestamp\",\"sentiment\"]\n",
    "columns_TGT=[\"Hastag\",\"timestamp\",\"negative\",\"medium\",\"positive\"]\n",
    "hastag2date2sentiment=data[columns_SRC]\n",
    "rows=[]\n",
    "for index, row in hastag2date2sentiment.iterrows():\n",
    "    hastags=ast.literal_eval(row[\"Hastags\"])\n",
    "\n",
    "    time=row[\"timestamp\"]\n",
    "    sentiment=row[\"sentiment\"]\n",
    "    sentiment=get_values(sentiment)\n",
    "    if sentiment!=\"0\":\n",
    "        neg=sentiment[0]\n",
    "        med=sentiment[1]\n",
    "        pos=sentiment[2]\n",
    "    else:\n",
    "        neg=pos=med=\"0\"\n",
    "    \n",
    "    for h in hastags:\n",
    "        current_record=[h,time,neg,med,pos]\n",
    "        rows.append(current_record)\n",
    "\n",
    "\n",
    "    \n",
    "\n",
    "hashtag2date=pd.DataFrame(data=rows,columns=columns_TGT)"
   ]
  },
  {
   "cell_type": "code",
   "execution_count": 6,
   "metadata": {},
   "outputs": [
    {
     "data": {
      "text/plain": [
       "Index(['Hastag', 'timestamp', 'negative', 'medium', 'positive'], dtype='object')"
      ]
     },
     "execution_count": 6,
     "metadata": {},
     "output_type": "execute_result"
    }
   ],
   "source": [
    "#save\n",
    "hashtag2date.to_csv(r\"TGT\\Hastag2date2sentiment.csv\")\n",
    "hashtag2date.columns"
   ]
  },
  {
   "cell_type": "code",
   "execution_count": 11,
   "metadata": {},
   "outputs": [
    {
     "data": {
      "text/html": [
       "<div>\n",
       "<style scoped>\n",
       "    .dataframe tbody tr th:only-of-type {\n",
       "        vertical-align: middle;\n",
       "    }\n",
       "\n",
       "    .dataframe tbody tr th {\n",
       "        vertical-align: top;\n",
       "    }\n",
       "\n",
       "    .dataframe thead th {\n",
       "        text-align: right;\n",
       "    }\n",
       "</style>\n",
       "<table border=\"1\" class=\"dataframe\">\n",
       "  <thead>\n",
       "    <tr style=\"text-align: right;\">\n",
       "      <th></th>\n",
       "      <th>Hastag</th>\n",
       "      <th>timestamp</th>\n",
       "      <th>negative</th>\n",
       "      <th>medium</th>\n",
       "      <th>positive</th>\n",
       "    </tr>\n",
       "  </thead>\n",
       "  <tbody>\n",
       "    <tr>\n",
       "      <th>0</th>\n",
       "      <td>Arash_Sadeghi</td>\n",
       "      <td>1.669609e+09</td>\n",
       "      <td>0.873068</td>\n",
       "      <td>0.121616</td>\n",
       "      <td>0.005316</td>\n",
       "    </tr>\n",
       "    <tr>\n",
       "      <th>1</th>\n",
       "      <td>Qatar2022</td>\n",
       "      <td>1.669609e+09</td>\n",
       "      <td>0.873068</td>\n",
       "      <td>0.121616</td>\n",
       "      <td>0.005316</td>\n",
       "    </tr>\n",
       "    <tr>\n",
       "      <th>2</th>\n",
       "      <td>AUSDEN</td>\n",
       "      <td>1.669749e+09</td>\n",
       "      <td>0.022719</td>\n",
       "      <td>0.855413</td>\n",
       "      <td>0.121868</td>\n",
       "    </tr>\n",
       "    <tr>\n",
       "      <th>3</th>\n",
       "      <td>WorldcupQatar2022</td>\n",
       "      <td>1.669749e+09</td>\n",
       "      <td>0.022719</td>\n",
       "      <td>0.855413</td>\n",
       "      <td>0.121868</td>\n",
       "    </tr>\n",
       "    <tr>\n",
       "      <th>4</th>\n",
       "      <td>BazDawg</td>\n",
       "      <td>1.669749e+09</td>\n",
       "      <td>0.022719</td>\n",
       "      <td>0.855413</td>\n",
       "      <td>0.121868</td>\n",
       "    </tr>\n",
       "    <tr>\n",
       "      <th>...</th>\n",
       "      <td>...</td>\n",
       "      <td>...</td>\n",
       "      <td>...</td>\n",
       "      <td>...</td>\n",
       "      <td>...</td>\n",
       "    </tr>\n",
       "    <tr>\n",
       "      <th>580824</th>\n",
       "      <td>wkvoetbal</td>\n",
       "      <td>1.669754e+09</td>\n",
       "      <td>0.077793</td>\n",
       "      <td>0.870654</td>\n",
       "      <td>0.051553</td>\n",
       "    </tr>\n",
       "    <tr>\n",
       "      <th>580825</th>\n",
       "      <td>SayTheirNames</td>\n",
       "      <td>1.669745e+09</td>\n",
       "      <td>0.834753</td>\n",
       "      <td>0.159256</td>\n",
       "      <td>0.005992</td>\n",
       "    </tr>\n",
       "    <tr>\n",
       "      <th>580826</th>\n",
       "      <td>SayTheirNames</td>\n",
       "      <td>1.669754e+09</td>\n",
       "      <td>0.373348</td>\n",
       "      <td>0.502817</td>\n",
       "      <td>0.123835</td>\n",
       "    </tr>\n",
       "    <tr>\n",
       "      <th>580827</th>\n",
       "      <td>Qatar2022</td>\n",
       "      <td>1.669754e+09</td>\n",
       "      <td>0.373348</td>\n",
       "      <td>0.502817</td>\n",
       "      <td>0.123835</td>\n",
       "    </tr>\n",
       "    <tr>\n",
       "      <th>580828</th>\n",
       "      <td>IRNUSA</td>\n",
       "      <td>1.669754e+09</td>\n",
       "      <td>0.373348</td>\n",
       "      <td>0.502817</td>\n",
       "      <td>0.123835</td>\n",
       "    </tr>\n",
       "  </tbody>\n",
       "</table>\n",
       "<p>580818 rows × 5 columns</p>\n",
       "</div>"
      ],
      "text/plain": [
       "                   Hastag     timestamp  negative    medium  positive\n",
       "0           Arash_Sadeghi  1.669609e+09  0.873068  0.121616  0.005316\n",
       "1               Qatar2022  1.669609e+09  0.873068  0.121616  0.005316\n",
       "2                  AUSDEN  1.669749e+09  0.022719  0.855413  0.121868\n",
       "3       WorldcupQatar2022  1.669749e+09  0.022719  0.855413  0.121868\n",
       "4                 BazDawg  1.669749e+09  0.022719  0.855413  0.121868\n",
       "...                   ...           ...       ...       ...       ...\n",
       "580824          wkvoetbal  1.669754e+09  0.077793  0.870654  0.051553\n",
       "580825      SayTheirNames  1.669745e+09  0.834753  0.159256  0.005992\n",
       "580826      SayTheirNames  1.669754e+09  0.373348  0.502817  0.123835\n",
       "580827          Qatar2022  1.669754e+09  0.373348  0.502817  0.123835\n",
       "580828             IRNUSA  1.669754e+09  0.373348  0.502817  0.123835\n",
       "\n",
       "[580818 rows x 5 columns]"
      ]
     },
     "execution_count": 11,
     "metadata": {},
     "output_type": "execute_result"
    }
   ],
   "source": [
    "inter_res=hashtag2date[hashtag2date[\"positive\"]!=\"0\"]\n",
    "inter_res"
   ]
  },
  {
   "cell_type": "code",
   "execution_count": 9,
   "metadata": {},
   "outputs": [
    {
     "ename": "KeyError",
     "evalue": "True",
     "output_type": "error",
     "traceback": [
      "\u001b[1;31m---------------------------------------------------------------------------\u001b[0m",
      "\u001b[1;31mKeyError\u001b[0m                                  Traceback (most recent call last)",
      "File \u001b[1;32mc:\\Users\\Wissel\\OneDrive\\Desktop\\università\\MAGISTRALE\\Visulaizzazione\\Final_Proj\\Twitter_Data_Analysis\\.venv\\lib\\site-packages\\pandas\\core\\indexes\\base.py:3653\u001b[0m, in \u001b[0;36mIndex.get_loc\u001b[1;34m(self, key)\u001b[0m\n\u001b[0;32m   3652\u001b[0m \u001b[39mtry\u001b[39;00m:\n\u001b[1;32m-> 3653\u001b[0m     \u001b[39mreturn\u001b[39;00m \u001b[39mself\u001b[39;49m\u001b[39m.\u001b[39;49m_engine\u001b[39m.\u001b[39;49mget_loc(casted_key)\n\u001b[0;32m   3654\u001b[0m \u001b[39mexcept\u001b[39;00m \u001b[39mKeyError\u001b[39;00m \u001b[39mas\u001b[39;00m err:\n",
      "File \u001b[1;32mc:\\Users\\Wissel\\OneDrive\\Desktop\\università\\MAGISTRALE\\Visulaizzazione\\Final_Proj\\Twitter_Data_Analysis\\.venv\\lib\\site-packages\\pandas\\_libs\\index.pyx:147\u001b[0m, in \u001b[0;36mpandas._libs.index.IndexEngine.get_loc\u001b[1;34m()\u001b[0m\n",
      "File \u001b[1;32mc:\\Users\\Wissel\\OneDrive\\Desktop\\università\\MAGISTRALE\\Visulaizzazione\\Final_Proj\\Twitter_Data_Analysis\\.venv\\lib\\site-packages\\pandas\\_libs\\index.pyx:176\u001b[0m, in \u001b[0;36mpandas._libs.index.IndexEngine.get_loc\u001b[1;34m()\u001b[0m\n",
      "File \u001b[1;32mpandas\\_libs\\hashtable_class_helper.pxi:7080\u001b[0m, in \u001b[0;36mpandas._libs.hashtable.PyObjectHashTable.get_item\u001b[1;34m()\u001b[0m\n",
      "File \u001b[1;32mpandas\\_libs\\hashtable_class_helper.pxi:7088\u001b[0m, in \u001b[0;36mpandas._libs.hashtable.PyObjectHashTable.get_item\u001b[1;34m()\u001b[0m\n",
      "\u001b[1;31mKeyError\u001b[0m: True",
      "\nThe above exception was the direct cause of the following exception:\n",
      "\u001b[1;31mKeyError\u001b[0m                                  Traceback (most recent call last)",
      "Cell \u001b[1;32mIn[9], line 1\u001b[0m\n\u001b[1;32m----> 1\u001b[0m result \u001b[39m=\u001b[39m hashtag2date[[hashtag2date[\u001b[39m\"\u001b[39;49m\u001b[39mpositive\u001b[39;49m\u001b[39m\"\u001b[39;49m\u001b[39m!=\u001b[39;49m\u001b[39m\"\u001b[39;49m\u001b[39m0\u001b[39;49m\u001b[39m\"\u001b[39;49m]]]\u001b[39m.\u001b[39mgroupby([\u001b[39m'\u001b[39m\u001b[39mHastag\u001b[39m\u001b[39m'\u001b[39m, \u001b[39m'\u001b[39m\u001b[39mtimestamp\u001b[39m\u001b[39m'\u001b[39m])\u001b[39m.\u001b[39magg({\u001b[39m'\u001b[39m\u001b[39mpositive\u001b[39m\u001b[39m'\u001b[39m: \u001b[39m'\u001b[39m\u001b[39mmean\u001b[39m\u001b[39m'\u001b[39m, \u001b[39m'\u001b[39m\u001b[39mnegative\u001b[39m\u001b[39m'\u001b[39m: \u001b[39m'\u001b[39m\u001b[39mmean\u001b[39m\u001b[39m'\u001b[39m,\u001b[39m'\u001b[39m\u001b[39mmedium\u001b[39m\u001b[39m'\u001b[39m:\u001b[39m'\u001b[39m\u001b[39mmean\u001b[39m\u001b[39m'\u001b[39m})\u001b[39m.\u001b[39mreset_index()\n",
      "File \u001b[1;32mc:\\Users\\Wissel\\OneDrive\\Desktop\\università\\MAGISTRALE\\Visulaizzazione\\Final_Proj\\Twitter_Data_Analysis\\.venv\\lib\\site-packages\\pandas\\core\\frame.py:3761\u001b[0m, in \u001b[0;36mDataFrame.__getitem__\u001b[1;34m(self, key)\u001b[0m\n\u001b[0;32m   3759\u001b[0m \u001b[39mif\u001b[39;00m \u001b[39mself\u001b[39m\u001b[39m.\u001b[39mcolumns\u001b[39m.\u001b[39mnlevels \u001b[39m>\u001b[39m \u001b[39m1\u001b[39m:\n\u001b[0;32m   3760\u001b[0m     \u001b[39mreturn\u001b[39;00m \u001b[39mself\u001b[39m\u001b[39m.\u001b[39m_getitem_multilevel(key)\n\u001b[1;32m-> 3761\u001b[0m indexer \u001b[39m=\u001b[39m \u001b[39mself\u001b[39;49m\u001b[39m.\u001b[39;49mcolumns\u001b[39m.\u001b[39;49mget_loc(key)\n\u001b[0;32m   3762\u001b[0m \u001b[39mif\u001b[39;00m is_integer(indexer):\n\u001b[0;32m   3763\u001b[0m     indexer \u001b[39m=\u001b[39m [indexer]\n",
      "File \u001b[1;32mc:\\Users\\Wissel\\OneDrive\\Desktop\\università\\MAGISTRALE\\Visulaizzazione\\Final_Proj\\Twitter_Data_Analysis\\.venv\\lib\\site-packages\\pandas\\core\\indexes\\base.py:3655\u001b[0m, in \u001b[0;36mIndex.get_loc\u001b[1;34m(self, key)\u001b[0m\n\u001b[0;32m   3653\u001b[0m     \u001b[39mreturn\u001b[39;00m \u001b[39mself\u001b[39m\u001b[39m.\u001b[39m_engine\u001b[39m.\u001b[39mget_loc(casted_key)\n\u001b[0;32m   3654\u001b[0m \u001b[39mexcept\u001b[39;00m \u001b[39mKeyError\u001b[39;00m \u001b[39mas\u001b[39;00m err:\n\u001b[1;32m-> 3655\u001b[0m     \u001b[39mraise\u001b[39;00m \u001b[39mKeyError\u001b[39;00m(key) \u001b[39mfrom\u001b[39;00m \u001b[39merr\u001b[39;00m\n\u001b[0;32m   3656\u001b[0m \u001b[39mexcept\u001b[39;00m \u001b[39mTypeError\u001b[39;00m:\n\u001b[0;32m   3657\u001b[0m     \u001b[39m# If we have a listlike key, _check_indexing_error will raise\u001b[39;00m\n\u001b[0;32m   3658\u001b[0m     \u001b[39m#  InvalidIndexError. Otherwise we fall through and re-raise\u001b[39;00m\n\u001b[0;32m   3659\u001b[0m     \u001b[39m#  the TypeError.\u001b[39;00m\n\u001b[0;32m   3660\u001b[0m     \u001b[39mself\u001b[39m\u001b[39m.\u001b[39m_check_indexing_error(key)\n",
      "\u001b[1;31mKeyError\u001b[0m: True"
     ]
    }
   ],
   "source": [
    "result = inter_res.groupby(['Hastag', 'timestamp']).agg({'positive': 'mean', 'negative': 'mean','medium':'mean'}).reset_index()"
   ]
  },
  {
   "cell_type": "code",
   "execution_count": null,
   "metadata": {},
   "outputs": [],
   "source": [
    "result.to_csv(r\"TGT\\hashtag2date2setimentAGG.csv\",index=False)"
   ]
  }
 ],
 "metadata": {
  "kernelspec": {
   "display_name": "Python 3",
   "language": "python",
   "name": "python3"
  },
  "language_info": {
   "codemirror_mode": {
    "name": "ipython",
    "version": 3
   },
   "file_extension": ".py",
   "mimetype": "text/x-python",
   "name": "python",
   "nbconvert_exporter": "python",
   "pygments_lexer": "ipython3",
   "version": "3.9.13"
  },
  "orig_nbformat": 4
 },
 "nbformat": 4,
 "nbformat_minor": 2
}
