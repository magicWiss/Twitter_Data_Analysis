{
 "cells": [
  {
   "cell_type": "code",
   "execution_count": 1,
   "metadata": {},
   "outputs": [],
   "source": [
    "import pandas as pd\n"
   ]
  },
  {
   "cell_type": "code",
   "execution_count": 2,
   "metadata": {},
   "outputs": [
    {
     "name": "stdout",
     "output_type": "stream",
     "text": [
      "Numero tweets: 259643\n",
      "colonne: Index(['author_id', 'tweet_id', 'conversation_author_id', 'conversation_id',\n",
      "       'timestamp', 'text', 'sentiment', 'Hastags'],\n",
      "      dtype='object')\n"
     ]
    }
   ],
   "source": [
    "dataPath=r\"SRC\\tweetsAndHastags.csv\"\n",
    "data=pd.read_csv(dataPath)\n",
    "print(\"Numero tweets:\",len(data))\n",
    "print(\"colonne:\",data.columns)"
   ]
  },
  {
   "cell_type": "code",
   "execution_count": 3,
   "metadata": {},
   "outputs": [],
   "source": [
    "def get_values(sent):\n",
    "    sent=sent.replace(\"[\",\"\").replace(\"]\",\"\").split()\n",
    "    if len(sent)!=3:\n",
    "        print (sent)\n",
    "        return \"0\"\n",
    "    \n",
    "    else:\n",
    "        out=[]\n",
    "        for s in sent:\n",
    "            out.append(float(s))   \n",
    "        return out"
   ]
  },
  {
   "cell_type": "code",
   "execution_count": 4,
   "metadata": {},
   "outputs": [
    {
     "name": "stdout",
     "output_type": "stream",
     "text": [
      "[\"'exception'\"]\n",
      "[\"'exception'\"]\n",
      "[\"'exception'\"]\n",
      "[\"'exception'\"]\n",
      "[\"'exception'\"]\n"
     ]
    }
   ],
   "source": [
    "#creating the user, date, sentiment rows\n",
    "import ast\n",
    "columns_SRC=[\"Hastags\",\"timestamp\",\"sentiment\"]\n",
    "columns_TGT=[\"Hastag\",\"timestamp\",\"negative\",\"medium\",\"positive\"]\n",
    "user2date2sentiment=data[columns_SRC]\n",
    "rows=[]\n",
    "for index, row in user2date2sentiment.iterrows():\n",
    "    hastags=ast.literal_eval(row[\"Hastags\"])\n",
    "\n",
    "    time=row[\"timestamp\"]\n",
    "    sentiment=row[\"sentiment\"]\n",
    "    sentiment=get_values(sentiment)\n",
    "    if sentiment!=\"0\":\n",
    "        neg=sentiment[0]\n",
    "        med=sentiment[1]\n",
    "        pos=sentiment[2]\n",
    "    else:\n",
    "        neg=pos=med=\"0\"\n",
    "    \n",
    "    for h in hastags:\n",
    "        current_record=[h,time,neg,med,pos]\n",
    "        rows.append(current_record)\n",
    "\n",
    "\n",
    "    \n",
    "\n",
    "user2date=pd.DataFrame(data=rows,columns=columns_TGT)"
   ]
  },
  {
   "cell_type": "code",
   "execution_count": 5,
   "metadata": {},
   "outputs": [],
   "source": [
    "#save\n",
    "user2date.to_csv(r\"TGT\\Hastag2date2sentiment.csv\")"
   ]
  }
 ],
 "metadata": {
  "kernelspec": {
   "display_name": "Python 3",
   "language": "python",
   "name": "python3"
  },
  "language_info": {
   "codemirror_mode": {
    "name": "ipython",
    "version": 3
   },
   "file_extension": ".py",
   "mimetype": "text/x-python",
   "name": "python",
   "nbconvert_exporter": "python",
   "pygments_lexer": "ipython3",
   "version": "3.9.13"
  },
  "orig_nbformat": 4
 },
 "nbformat": 4,
 "nbformat_minor": 2
}
