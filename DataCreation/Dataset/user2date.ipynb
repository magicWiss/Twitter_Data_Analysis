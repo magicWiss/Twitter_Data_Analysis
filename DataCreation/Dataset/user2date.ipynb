{
 "cells": [
  {
   "cell_type": "code",
   "execution_count": 50,
   "metadata": {},
   "outputs": [],
   "source": [
    "import pandasql\n",
    "\n",
    "import pandas as pd"
   ]
  },
  {
   "cell_type": "code",
   "execution_count": 51,
   "metadata": {},
   "outputs": [
    {
     "name": "stdout",
     "output_type": "stream",
     "text": [
      "Numero tweets: 259643\n",
      "colonne: Index(['author_id', 'tweet_id', 'conversation_author_id', 'conversation_id',\n",
      "       'timestamp', 'text', 'sentiment', 'Hastags'],\n",
      "      dtype='object')\n"
     ]
    }
   ],
   "source": [
    "dataPath=r\"SRC\\tweetsAndHastags.csv\"\n",
    "data=pd.read_csv(dataPath)\n",
    "print(\"Numero tweets:\",len(data))\n",
    "print(\"colonne:\",data.columns)"
   ]
  },
  {
   "cell_type": "code",
   "execution_count": 52,
   "metadata": {},
   "outputs": [
    {
     "name": "stdout",
     "output_type": "stream",
     "text": [
      "Date distinete: 48992\n"
     ]
    }
   ],
   "source": [
    "# Count the occurrences of values in 'Column1'\n",
    "value_counts = data['timestamp'].value_counts()\n",
    "\n",
    "print(\"Date distinete:\",len(value_counts))"
   ]
  },
  {
   "cell_type": "code",
   "execution_count": 53,
   "metadata": {},
   "outputs": [],
   "source": [
    "def get_values(sent):\n",
    "    sent=sent.replace(\"[\",\"\").replace(\"]\",\"\").split()\n",
    "    if len(sent)!=3:\n",
    "        print (sent)\n",
    "        return \"0\"\n",
    "    \n",
    "    else:\n",
    "        out=[]\n",
    "        for s in sent:\n",
    "            out.append(float(s))   \n",
    "        return out"
   ]
  },
  {
   "cell_type": "code",
   "execution_count": 54,
   "metadata": {},
   "outputs": [
    {
     "name": "stdout",
     "output_type": "stream",
     "text": [
      "[\"'exception'\"]\n",
      "[\"'exception'\"]\n",
      "[\"'exception'\"]\n",
      "[\"'exception'\"]\n",
      "[\"'exception'\"]\n"
     ]
    }
   ],
   "source": [
    "#creating the user, date, sentiment rows\n",
    "import ast\n",
    "columns_SRC=[\"author_id\",\"timestamp\",\"sentiment\"]\n",
    "columns_TGT=[\"author_id\",\"timestamp\",\"negative\",\"medium\",\"positive\"]\n",
    "user2date2sentiment=data[columns_SRC]\n",
    "rows=[]\n",
    "for index, row in user2date2sentiment.iterrows():\n",
    "    auth=row[\"author_id\"]\n",
    "    time=row[\"timestamp\"]\n",
    "    sentiment=row[\"sentiment\"]\n",
    "    sentiment=get_values(sentiment)\n",
    "    if sentiment!=\"0\":\n",
    "        neg=sentiment[0]\n",
    "        med=sentiment[1]\n",
    "        pos=sentiment[2]\n",
    "    else:\n",
    "        neg=pos=med=0\n",
    "    \n",
    "\n",
    "    current_record=[auth,time,neg,med,pos]\n",
    "\n",
    "\n",
    "    rows.append(current_record)\n",
    "\n",
    "user2date=pd.DataFrame(data=rows,columns=columns_TGT)"
   ]
  },
  {
   "cell_type": "code",
   "execution_count": 55,
   "metadata": {},
   "outputs": [
    {
     "data": {
      "text/plain": [
       "Index(['author_id', 'timestamp', 'negative', 'medium', 'positive'], dtype='object')"
      ]
     },
     "execution_count": 55,
     "metadata": {},
     "output_type": "execute_result"
    }
   ],
   "source": [
    "#save\n",
    "user2date.to_csv(r\"TGT\\USER2date2sentiment.csv\")\n",
    "user2date.columns"
   ]
  },
  {
   "cell_type": "code",
   "execution_count": 56,
   "metadata": {},
   "outputs": [],
   "source": [
    "user2date['timestamp'] = pd.to_datetime(user2date['timestamp'], unit='s')\n"
   ]
  },
  {
   "cell_type": "code",
   "execution_count": 57,
   "metadata": {},
   "outputs": [],
   "source": [
    "user2date['timestamp'] = user2date['timestamp'].dt.date"
   ]
  },
  {
   "cell_type": "code",
   "execution_count": 59,
   "metadata": {},
   "outputs": [
    {
     "data": {
      "text/html": [
       "<div>\n",
       "<style scoped>\n",
       "    .dataframe tbody tr th:only-of-type {\n",
       "        vertical-align: middle;\n",
       "    }\n",
       "\n",
       "    .dataframe tbody tr th {\n",
       "        vertical-align: top;\n",
       "    }\n",
       "\n",
       "    .dataframe thead th {\n",
       "        text-align: right;\n",
       "    }\n",
       "</style>\n",
       "<table border=\"1\" class=\"dataframe\">\n",
       "  <thead>\n",
       "    <tr style=\"text-align: right;\">\n",
       "      <th></th>\n",
       "      <th>author_id</th>\n",
       "      <th>timestamp</th>\n",
       "      <th>negative</th>\n",
       "      <th>medium</th>\n",
       "      <th>positive</th>\n",
       "    </tr>\n",
       "  </thead>\n",
       "  <tbody>\n",
       "    <tr>\n",
       "      <th>0</th>\n",
       "      <td>1526589356747661312</td>\n",
       "      <td>2022-11-28</td>\n",
       "      <td>0.873068</td>\n",
       "      <td>0.121616</td>\n",
       "      <td>0.005316</td>\n",
       "    </tr>\n",
       "    <tr>\n",
       "      <th>1</th>\n",
       "      <td>1380638725894459397</td>\n",
       "      <td>2022-11-30</td>\n",
       "      <td>0.039362</td>\n",
       "      <td>0.888115</td>\n",
       "      <td>0.072523</td>\n",
       "    </tr>\n",
       "    <tr>\n",
       "      <th>2</th>\n",
       "      <td>1380638725894459397</td>\n",
       "      <td>2022-11-29</td>\n",
       "      <td>0.022719</td>\n",
       "      <td>0.855413</td>\n",
       "      <td>0.121868</td>\n",
       "    </tr>\n",
       "    <tr>\n",
       "      <th>3</th>\n",
       "      <td>2388538481</td>\n",
       "      <td>2022-11-30</td>\n",
       "      <td>0.069697</td>\n",
       "      <td>0.664478</td>\n",
       "      <td>0.265825</td>\n",
       "    </tr>\n",
       "    <tr>\n",
       "      <th>4</th>\n",
       "      <td>1303026765737218049</td>\n",
       "      <td>2022-11-29</td>\n",
       "      <td>0.261828</td>\n",
       "      <td>0.637353</td>\n",
       "      <td>0.100819</td>\n",
       "    </tr>\n",
       "    <tr>\n",
       "      <th>5</th>\n",
       "      <td>1281720444828225536</td>\n",
       "      <td>2022-11-30</td>\n",
       "      <td>0.150762</td>\n",
       "      <td>0.813997</td>\n",
       "      <td>0.035241</td>\n",
       "    </tr>\n",
       "    <tr>\n",
       "      <th>6</th>\n",
       "      <td>4782551</td>\n",
       "      <td>2022-11-29</td>\n",
       "      <td>0.147255</td>\n",
       "      <td>0.817532</td>\n",
       "      <td>0.035213</td>\n",
       "    </tr>\n",
       "    <tr>\n",
       "      <th>7</th>\n",
       "      <td>1220611072945729536</td>\n",
       "      <td>2022-11-30</td>\n",
       "      <td>0.036036</td>\n",
       "      <td>0.835449</td>\n",
       "      <td>0.128515</td>\n",
       "    </tr>\n",
       "    <tr>\n",
       "      <th>8</th>\n",
       "      <td>524531680</td>\n",
       "      <td>2022-11-29</td>\n",
       "      <td>0.040383</td>\n",
       "      <td>0.831628</td>\n",
       "      <td>0.127989</td>\n",
       "    </tr>\n",
       "    <tr>\n",
       "      <th>9</th>\n",
       "      <td>1284968922446532609</td>\n",
       "      <td>2022-11-30</td>\n",
       "      <td>0.746930</td>\n",
       "      <td>0.245318</td>\n",
       "      <td>0.007752</td>\n",
       "    </tr>\n",
       "  </tbody>\n",
       "</table>\n",
       "</div>"
      ],
      "text/plain": [
       "             author_id   timestamp  negative    medium  positive\n",
       "0  1526589356747661312  2022-11-28  0.873068  0.121616  0.005316\n",
       "1  1380638725894459397  2022-11-30  0.039362  0.888115  0.072523\n",
       "2  1380638725894459397  2022-11-29  0.022719  0.855413  0.121868\n",
       "3           2388538481  2022-11-30  0.069697  0.664478  0.265825\n",
       "4  1303026765737218049  2022-11-29  0.261828  0.637353  0.100819\n",
       "5  1281720444828225536  2022-11-30  0.150762  0.813997  0.035241\n",
       "6              4782551  2022-11-29  0.147255  0.817532  0.035213\n",
       "7  1220611072945729536  2022-11-30  0.036036  0.835449  0.128515\n",
       "8            524531680  2022-11-29  0.040383  0.831628  0.127989\n",
       "9  1284968922446532609  2022-11-30  0.746930  0.245318  0.007752"
      ]
     },
     "execution_count": 59,
     "metadata": {},
     "output_type": "execute_result"
    }
   ],
   "source": [
    "user2date.head(10)"
   ]
  },
  {
   "cell_type": "code",
   "execution_count": 60,
   "metadata": {},
   "outputs": [],
   "source": [
    "\n",
    "\n",
    "\n",
    "result = user2date.groupby(['author_id', 'timestamp']).agg({'positive': 'mean', 'negative': 'mean','medium':'mean'}).reset_index()\n"
   ]
  },
  {
   "cell_type": "code",
   "execution_count": 65,
   "metadata": {},
   "outputs": [],
   "source": [
    "\n",
    "\n",
    "# Sort the DataFrame based on the 'Timestamp' column\n",
    "df_sorted = result.sort_values('timestamp')"
   ]
  },
  {
   "cell_type": "code",
   "execution_count": 63,
   "metadata": {},
   "outputs": [
    {
     "name": "stdout",
     "output_type": "stream",
     "text": [
      "before agg: 259643\n",
      "after agg: 81317\n"
     ]
    }
   ],
   "source": [
    "print(\"before agg:\",len(user2date))\n",
    "print(\"after agg:\",len(df_sorted))"
   ]
  },
  {
   "cell_type": "code",
   "execution_count": 66,
   "metadata": {},
   "outputs": [
    {
     "data": {
      "text/html": [
       "<div>\n",
       "<style scoped>\n",
       "    .dataframe tbody tr th:only-of-type {\n",
       "        vertical-align: middle;\n",
       "    }\n",
       "\n",
       "    .dataframe tbody tr th {\n",
       "        vertical-align: top;\n",
       "    }\n",
       "\n",
       "    .dataframe thead th {\n",
       "        text-align: right;\n",
       "    }\n",
       "</style>\n",
       "<table border=\"1\" class=\"dataframe\">\n",
       "  <thead>\n",
       "    <tr style=\"text-align: right;\">\n",
       "      <th></th>\n",
       "      <th>author_id</th>\n",
       "      <th>timestamp</th>\n",
       "      <th>positive</th>\n",
       "      <th>negative</th>\n",
       "      <th>medium</th>\n",
       "    </tr>\n",
       "  </thead>\n",
       "  <tbody>\n",
       "    <tr>\n",
       "      <th>1098</th>\n",
       "      <td>27840712</td>\n",
       "      <td>2009-04-23</td>\n",
       "      <td>0.260067</td>\n",
       "      <td>0.073346</td>\n",
       "      <td>0.666587</td>\n",
       "    </tr>\n",
       "    <tr>\n",
       "      <th>15484</th>\n",
       "      <td>585076567</td>\n",
       "      <td>2014-06-13</td>\n",
       "      <td>0.371753</td>\n",
       "      <td>0.014257</td>\n",
       "      <td>0.613990</td>\n",
       "    </tr>\n",
       "    <tr>\n",
       "      <th>29216</th>\n",
       "      <td>757870866906480640</td>\n",
       "      <td>2017-05-11</td>\n",
       "      <td>0.027612</td>\n",
       "      <td>0.170343</td>\n",
       "      <td>0.802046</td>\n",
       "    </tr>\n",
       "    <tr>\n",
       "      <th>4700</th>\n",
       "      <td>105754581</td>\n",
       "      <td>2018-11-27</td>\n",
       "      <td>0.067647</td>\n",
       "      <td>0.101853</td>\n",
       "      <td>0.830500</td>\n",
       "    </tr>\n",
       "    <tr>\n",
       "      <th>17232</th>\n",
       "      <td>902408190</td>\n",
       "      <td>2019-07-14</td>\n",
       "      <td>0.011495</td>\n",
       "      <td>0.829057</td>\n",
       "      <td>0.159448</td>\n",
       "    </tr>\n",
       "    <tr>\n",
       "      <th>3062</th>\n",
       "      <td>64791519</td>\n",
       "      <td>2019-09-13</td>\n",
       "      <td>0.167163</td>\n",
       "      <td>0.050118</td>\n",
       "      <td>0.782720</td>\n",
       "    </tr>\n",
       "    <tr>\n",
       "      <th>633</th>\n",
       "      <td>19373140</td>\n",
       "      <td>2020-11-11</td>\n",
       "      <td>0.077626</td>\n",
       "      <td>0.182335</td>\n",
       "      <td>0.740039</td>\n",
       "    </tr>\n",
       "    <tr>\n",
       "      <th>2341</th>\n",
       "      <td>50029519</td>\n",
       "      <td>2020-12-12</td>\n",
       "      <td>0.167163</td>\n",
       "      <td>0.050118</td>\n",
       "      <td>0.782720</td>\n",
       "    </tr>\n",
       "    <tr>\n",
       "      <th>22759</th>\n",
       "      <td>2537079990</td>\n",
       "      <td>2020-12-22</td>\n",
       "      <td>0.500203</td>\n",
       "      <td>0.004643</td>\n",
       "      <td>0.495155</td>\n",
       "    </tr>\n",
       "    <tr>\n",
       "      <th>45636</th>\n",
       "      <td>1258048349040783360</td>\n",
       "      <td>2021-09-21</td>\n",
       "      <td>0.167163</td>\n",
       "      <td>0.050118</td>\n",
       "      <td>0.782720</td>\n",
       "    </tr>\n",
       "    <tr>\n",
       "      <th>34621</th>\n",
       "      <td>949254143876747264</td>\n",
       "      <td>2022-02-01</td>\n",
       "      <td>0.049079</td>\n",
       "      <td>0.061307</td>\n",
       "      <td>0.889614</td>\n",
       "    </tr>\n",
       "    <tr>\n",
       "      <th>37203</th>\n",
       "      <td>1028710711600574466</td>\n",
       "      <td>2022-03-30</td>\n",
       "      <td>0.348000</td>\n",
       "      <td>0.009549</td>\n",
       "      <td>0.642451</td>\n",
       "    </tr>\n",
       "    <tr>\n",
       "      <th>34900</th>\n",
       "      <td>955967890301190144</td>\n",
       "      <td>2022-03-30</td>\n",
       "      <td>0.460610</td>\n",
       "      <td>0.005868</td>\n",
       "      <td>0.533523</td>\n",
       "    </tr>\n",
       "    <tr>\n",
       "      <th>58300</th>\n",
       "      <td>1460578703692423172</td>\n",
       "      <td>2022-03-30</td>\n",
       "      <td>0.291695</td>\n",
       "      <td>0.011389</td>\n",
       "      <td>0.696916</td>\n",
       "    </tr>\n",
       "    <tr>\n",
       "      <th>36208</th>\n",
       "      <td>998288586150699009</td>\n",
       "      <td>2022-04-01</td>\n",
       "      <td>0.030916</td>\n",
       "      <td>0.174663</td>\n",
       "      <td>0.794421</td>\n",
       "    </tr>\n",
       "    <tr>\n",
       "      <th>45653</th>\n",
       "      <td>1258219400395661314</td>\n",
       "      <td>2022-04-01</td>\n",
       "      <td>0.115819</td>\n",
       "      <td>0.053016</td>\n",
       "      <td>0.831166</td>\n",
       "    </tr>\n",
       "    <tr>\n",
       "      <th>3079</th>\n",
       "      <td>65290276</td>\n",
       "      <td>2022-04-06</td>\n",
       "      <td>0.072899</td>\n",
       "      <td>0.036202</td>\n",
       "      <td>0.890900</td>\n",
       "    </tr>\n",
       "    <tr>\n",
       "      <th>50361</th>\n",
       "      <td>1339709301028491266</td>\n",
       "      <td>2022-04-23</td>\n",
       "      <td>0.160482</td>\n",
       "      <td>0.006263</td>\n",
       "      <td>0.833255</td>\n",
       "    </tr>\n",
       "    <tr>\n",
       "      <th>26679</th>\n",
       "      <td>3958326078</td>\n",
       "      <td>2022-04-23</td>\n",
       "      <td>0.040169</td>\n",
       "      <td>0.240156</td>\n",
       "      <td>0.719675</td>\n",
       "    </tr>\n",
       "    <tr>\n",
       "      <th>30767</th>\n",
       "      <td>820854107347046400</td>\n",
       "      <td>2022-05-06</td>\n",
       "      <td>0.086027</td>\n",
       "      <td>0.034476</td>\n",
       "      <td>0.879498</td>\n",
       "    </tr>\n",
       "  </tbody>\n",
       "</table>\n",
       "</div>"
      ],
      "text/plain": [
       "                 author_id   timestamp  positive  negative    medium\n",
       "1098              27840712  2009-04-23  0.260067  0.073346  0.666587\n",
       "15484            585076567  2014-06-13  0.371753  0.014257  0.613990\n",
       "29216   757870866906480640  2017-05-11  0.027612  0.170343  0.802046\n",
       "4700             105754581  2018-11-27  0.067647  0.101853  0.830500\n",
       "17232            902408190  2019-07-14  0.011495  0.829057  0.159448\n",
       "3062              64791519  2019-09-13  0.167163  0.050118  0.782720\n",
       "633               19373140  2020-11-11  0.077626  0.182335  0.740039\n",
       "2341              50029519  2020-12-12  0.167163  0.050118  0.782720\n",
       "22759           2537079990  2020-12-22  0.500203  0.004643  0.495155\n",
       "45636  1258048349040783360  2021-09-21  0.167163  0.050118  0.782720\n",
       "34621   949254143876747264  2022-02-01  0.049079  0.061307  0.889614\n",
       "37203  1028710711600574466  2022-03-30  0.348000  0.009549  0.642451\n",
       "34900   955967890301190144  2022-03-30  0.460610  0.005868  0.533523\n",
       "58300  1460578703692423172  2022-03-30  0.291695  0.011389  0.696916\n",
       "36208   998288586150699009  2022-04-01  0.030916  0.174663  0.794421\n",
       "45653  1258219400395661314  2022-04-01  0.115819  0.053016  0.831166\n",
       "3079              65290276  2022-04-06  0.072899  0.036202  0.890900\n",
       "50361  1339709301028491266  2022-04-23  0.160482  0.006263  0.833255\n",
       "26679           3958326078  2022-04-23  0.040169  0.240156  0.719675\n",
       "30767   820854107347046400  2022-05-06  0.086027  0.034476  0.879498"
      ]
     },
     "execution_count": 66,
     "metadata": {},
     "output_type": "execute_result"
    }
   ],
   "source": [
    "df_sorted.head(20)"
   ]
  },
  {
   "cell_type": "code",
   "execution_count": 68,
   "metadata": {},
   "outputs": [],
   "source": [
    "df_sorted.to_csv(r\"TGT\\user2date2setimentAGG.csv\",index=False)"
   ]
  }
 ],
 "metadata": {
  "kernelspec": {
   "display_name": "Python 3",
   "language": "python",
   "name": "python3"
  },
  "language_info": {
   "codemirror_mode": {
    "name": "ipython",
    "version": 3
   },
   "file_extension": ".py",
   "mimetype": "text/x-python",
   "name": "python",
   "nbconvert_exporter": "python",
   "pygments_lexer": "ipython3",
   "version": "3.9.13"
  },
  "orig_nbformat": 4
 },
 "nbformat": 4,
 "nbformat_minor": 2
}
