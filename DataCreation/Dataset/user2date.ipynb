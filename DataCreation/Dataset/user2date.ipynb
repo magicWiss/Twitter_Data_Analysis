{
 "cells": [
  {
   "cell_type": "code",
   "execution_count": 9,
   "metadata": {},
   "outputs": [
    {
     "name": "stdout",
     "output_type": "stream",
     "text": [
      "Requirement already satisfied: pandasql in c:\\users\\wissel\\onedrive\\desktop\\università\\magistrale\\visulaizzazione\\final_proj\\twitter_data_analysis\\.venv\\lib\\site-packages (0.7.3)\n",
      "Requirement already satisfied: numpy in c:\\users\\wissel\\onedrive\\desktop\\università\\magistrale\\visulaizzazione\\final_proj\\twitter_data_analysis\\.venv\\lib\\site-packages (from pandasql) (1.25.0)\n",
      "Requirement already satisfied: pandas in c:\\users\\wissel\\onedrive\\desktop\\università\\magistrale\\visulaizzazione\\final_proj\\twitter_data_analysis\\.venv\\lib\\site-packages (from pandasql) (2.0.3)\n",
      "Requirement already satisfied: sqlalchemy in c:\\users\\wissel\\onedrive\\desktop\\università\\magistrale\\visulaizzazione\\final_proj\\twitter_data_analysis\\.venv\\lib\\site-packages (from pandasql) (2.0.17)\n",
      "Requirement already satisfied: python-dateutil>=2.8.2 in c:\\users\\wissel\\onedrive\\desktop\\università\\magistrale\\visulaizzazione\\final_proj\\twitter_data_analysis\\.venv\\lib\\site-packages (from pandas->pandasql) (2.8.2)\n",
      "Requirement already satisfied: pytz>=2020.1 in c:\\users\\wissel\\onedrive\\desktop\\università\\magistrale\\visulaizzazione\\final_proj\\twitter_data_analysis\\.venv\\lib\\site-packages (from pandas->pandasql) (2023.3)\n",
      "Requirement already satisfied: tzdata>=2022.1 in c:\\users\\wissel\\onedrive\\desktop\\università\\magistrale\\visulaizzazione\\final_proj\\twitter_data_analysis\\.venv\\lib\\site-packages (from pandas->pandasql) (2023.3)\n",
      "Requirement already satisfied: typing-extensions>=4.2.0 in c:\\users\\wissel\\onedrive\\desktop\\università\\magistrale\\visulaizzazione\\final_proj\\twitter_data_analysis\\.venv\\lib\\site-packages (from sqlalchemy->pandasql) (4.7.1)\n",
      "Requirement already satisfied: greenlet!=0.4.17 in c:\\users\\wissel\\onedrive\\desktop\\università\\magistrale\\visulaizzazione\\final_proj\\twitter_data_analysis\\.venv\\lib\\site-packages (from sqlalchemy->pandasql) (2.0.2)\n",
      "Requirement already satisfied: six>=1.5 in c:\\users\\wissel\\onedrive\\desktop\\università\\magistrale\\visulaizzazione\\final_proj\\twitter_data_analysis\\.venv\\lib\\site-packages (from python-dateutil>=2.8.2->pandas->pandasql) (1.16.0)\n"
     ]
    }
   ],
   "source": [
    "!pip install pandasql\n"
   ]
  },
  {
   "cell_type": "code",
   "execution_count": 20,
   "metadata": {},
   "outputs": [],
   "source": [
    "import pandasql\n",
    "\n",
    "import pandas as pd"
   ]
  },
  {
   "cell_type": "code",
   "execution_count": 11,
   "metadata": {},
   "outputs": [
    {
     "name": "stdout",
     "output_type": "stream",
     "text": [
      "Numero tweets: 259643\n",
      "colonne: Index(['author_id', 'tweet_id', 'conversation_author_id', 'conversation_id',\n",
      "       'timestamp', 'text', 'sentiment', 'Hastags'],\n",
      "      dtype='object')\n"
     ]
    }
   ],
   "source": [
    "dataPath=r\"SRC\\tweetsAndHastags.csv\"\n",
    "data=pd.read_csv(dataPath)\n",
    "print(\"Numero tweets:\",len(data))\n",
    "print(\"colonne:\",data.columns)"
   ]
  },
  {
   "cell_type": "code",
   "execution_count": 12,
   "metadata": {},
   "outputs": [
    {
     "name": "stdout",
     "output_type": "stream",
     "text": [
      "Date distinete: 48992\n"
     ]
    }
   ],
   "source": [
    "# Count the occurrences of values in 'Column1'\n",
    "value_counts = data['timestamp'].value_counts()\n",
    "\n",
    "print(\"Date distinete:\",len(value_counts))"
   ]
  },
  {
   "cell_type": "code",
   "execution_count": 13,
   "metadata": {},
   "outputs": [],
   "source": [
    "def get_values(sent):\n",
    "    sent=sent.replace(\"[\",\"\").replace(\"]\",\"\").split()\n",
    "    if len(sent)!=3:\n",
    "        print (sent)\n",
    "        return \"0\"\n",
    "    \n",
    "    else:\n",
    "        out=[]\n",
    "        for s in sent:\n",
    "            out.append(float(s))   \n",
    "        return out"
   ]
  },
  {
   "cell_type": "code",
   "execution_count": 14,
   "metadata": {},
   "outputs": [
    {
     "name": "stdout",
     "output_type": "stream",
     "text": [
      "[\"'exception'\"]\n",
      "[\"'exception'\"]\n",
      "[\"'exception'\"]\n",
      "[\"'exception'\"]\n",
      "[\"'exception'\"]\n"
     ]
    }
   ],
   "source": [
    "#creating the user, date, sentiment rows\n",
    "import ast\n",
    "columns_SRC=[\"author_id\",\"timestamp\",\"sentiment\"]\n",
    "columns_TGT=[\"author_id\",\"timestamp\",\"negative\",\"medium\",\"positive\"]\n",
    "user2date2sentiment=data[columns_SRC]\n",
    "rows=[]\n",
    "for index, row in user2date2sentiment.iterrows():\n",
    "    auth=row[\"author_id\"]\n",
    "    time=row[\"timestamp\"]\n",
    "    sentiment=row[\"sentiment\"]\n",
    "    sentiment=get_values(sentiment)\n",
    "    if sentiment!=\"0\":\n",
    "        neg=sentiment[0]\n",
    "        med=sentiment[1]\n",
    "        pos=sentiment[2]\n",
    "    else:\n",
    "        neg=pos=med=\"0\"\n",
    "    \n",
    "\n",
    "    current_record=[auth,time,neg,med,pos]\n",
    "\n",
    "\n",
    "    rows.append(current_record)\n",
    "\n",
    "user2date=pd.DataFrame(data=rows,columns=columns_TGT)"
   ]
  },
  {
   "cell_type": "code",
   "execution_count": 24,
   "metadata": {},
   "outputs": [
    {
     "data": {
      "text/plain": [
       "Index(['author_id', 'timestamp', 'negative', 'medium', 'positive'], dtype='object')"
      ]
     },
     "execution_count": 24,
     "metadata": {},
     "output_type": "execute_result"
    }
   ],
   "source": [
    "#save\n",
    "user2date.to_csv(r\"TGT\\USER2date2sentiment.csv\")\n",
    "user2date.columns"
   ]
  },
  {
   "cell_type": "code",
   "execution_count": 25,
   "metadata": {},
   "outputs": [],
   "source": [
    "\n",
    "\n",
    "\n",
    "result = user2date.groupby(['author_id', 'timestamp']).agg({'positive': 'mean', 'negative': 'mean','medium':'mean'}).reset_index()"
   ]
  },
  {
   "cell_type": "code",
   "execution_count": 29,
   "metadata": {},
   "outputs": [],
   "source": [
    "result.to_csv(r\"TGT\\user2date2setimentAGG.csv\",index=False)"
   ]
  }
 ],
 "metadata": {
  "kernelspec": {
   "display_name": "Python 3",
   "language": "python",
   "name": "python3"
  },
  "language_info": {
   "codemirror_mode": {
    "name": "ipython",
    "version": 3
   },
   "file_extension": ".py",
   "mimetype": "text/x-python",
   "name": "python",
   "nbconvert_exporter": "python",
   "pygments_lexer": "ipython3",
   "version": "3.9.13"
  },
  "orig_nbformat": 4
 },
 "nbformat": 4,
 "nbformat_minor": 2
}
